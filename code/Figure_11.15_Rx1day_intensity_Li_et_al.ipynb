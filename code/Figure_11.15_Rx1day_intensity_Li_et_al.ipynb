{
 "cells": [
  {
   "cell_type": "markdown",
   "id": "residential-stage",
   "metadata": {},
   "source": [
    "# Figure 11.15 - Rx1day intensity increase (Li et al., 2021)\n",
    "\n",
    "* Based on: Li et al, ([2021](https://journals.ametsoc.org/view/journals/clim/34/9/JCLI-D-19-1013.1.xml)), however, using a base period of 1850-1900 (instead of 1851-1900).\n",
    "\n",
    "Author: Mathias Hauser"
   ]
  },
  {
   "cell_type": "code",
   "execution_count": 1,
   "id": "adapted-analysis",
   "metadata": {},
   "outputs": [],
   "source": [
    "import matplotlib as mpl\n",
    "import matplotlib.pyplot as plt\n",
    "import pandas as pd\n",
    "import numpy as np\n",
    "\n",
    "import conf\n",
    "from utils import li_etal_events"
   ]
  },
  {
   "cell_type": "code",
   "execution_count": 2,
   "id": "automatic-lying",
   "metadata": {},
   "outputs": [],
   "source": [
    "mpl.rcParams['font.sans-serif'] = \"Arial\""
   ]
  },
  {
   "cell_type": "markdown",
   "id": "saved-straight",
   "metadata": {},
   "source": [
    "### Read data"
   ]
  },
  {
   "cell_type": "code",
   "execution_count": 3,
   "id": "artistic-frederick",
   "metadata": {},
   "outputs": [],
   "source": [
    "Rx1day = li_etal_events.read_data(\"Rx1day\")"
   ]
  },
  {
   "cell_type": "markdown",
   "id": "virtual-butter",
   "metadata": {},
   "source": [
    "### Plot"
   ]
  },
  {
   "cell_type": "code",
   "execution_count": 4,
   "id": "buried-worry",
   "metadata": {},
   "outputs": [
    {
     "data": {
      "image/png": "[encoded data removed]",
      "text/plain": [
       "<Figure size 255.118x205.512 with 1 Axes>"
      ]
     },
     "metadata": {
      "needs_background": "light"
     },
     "output_type": "display_data"
    }
   ],
   "source": [
    "li_etal_events.plot_boxstats(Rx1day, \"Extremely high precipitation event\", \"%\")\n",
    "\n",
    "fN = conf.figure_filename(\n",
    "    \"Figure_11.15_Rx1day_intensity_Li_et_al\",\n",
    "    \"Figure_11.15_Rx1day_intensity_Li_et_al\",\n",
    ")\n",
    "plt.savefig(fN + \".png\", facecolor=\"w\", dpi=400)\n",
    "plt.savefig(fN + \".pdf\")"
   ]
  }
 ],
 "metadata": {
  "kernelspec": {
   "display_name": "Python (ipcc_ar6)",
   "language": "python",
   "name": "ipcc_ar6"
  },
  "language_info": {
   "codemirror_mode": {
    "name": "ipython",
    "version": 3
   },
   "file_extension": ".py",
   "mimetype": "text/x-python",
   "name": "python",
   "nbconvert_exporter": "python",
   "pygments_lexer": "ipython3",
   "version": "3.7.6"
  }
 },
 "nbformat": 4,
 "nbformat_minor": 5
}
