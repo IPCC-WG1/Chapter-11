{
 "cells": [
  {
   "cell_type": "markdown",
   "metadata": {},
   "source": [
    "# Table 11.SM.1 - GSAT anomalies\n",
    "\n",
    "* Unassessed CMIP5 GSAT anomalies for time periods (Table 11.SM.1)\n",
    "* Unassessed CMIP6 GSAT anomalies for time periods (not shown in report?)\n",
    "* Similar to [cmip_temperatures.ipynb](cmip_temperatures.ipynb) but for different time periods and only for the multi model mean.\n",
    "\n",
    "Author: Mathias Hauser"
   ]
  },
  {
   "cell_type": "code",
   "execution_count": 1,
   "metadata": {},
   "outputs": [],
   "source": [
    "import conf\n",
    "from utils import computation\n",
    "import data_tables"
   ]
  },
  {
   "cell_type": "markdown",
   "metadata": {},
   "source": [
    "### Read CMIP6 data"
   ]
  },
  {
   "cell_type": "code",
   "execution_count": 2,
   "metadata": {},
   "outputs": [
    {
     "name": "stdout",
     "output_type": "stream",
     "text": [
      " -- {'varn': 'tas', 'postprocess': 'global_mean', 'table': 'Amon', 'model': 'IITM-ESM', 'exp': 'ssp370', 'ens': 'r1i1p1f1', 'grid': 'gn', 'ensnumber': 0}: no data for 2099 - 2099 (1850..2098)\n"
     ]
    }
   ],
   "source": [
    "c6_tas = conf.cmip6.load_post_all_concat(\n",
    "    varn=\"tas\",\n",
    "    postprocess=\"global_mean\"\n",
    ")"
   ]
  },
  {
   "cell_type": "code",
   "execution_count": 3,
   "metadata": {},
   "outputs": [],
   "source": [
    "c6_tas_ssp119 = computation.select_by_metadata(c6_tas, exp=\"ssp119\")\n",
    "c6_tas_ssp126 = computation.select_by_metadata(c6_tas, exp=\"ssp126\")\n",
    "c6_tas_ssp245 = computation.select_by_metadata(c6_tas, exp=\"ssp245\")\n",
    "c6_tas_ssp370 = computation.select_by_metadata(c6_tas, exp=\"ssp370\")\n",
    "c6_tas_ssp585 = computation.select_by_metadata(c6_tas, exp=\"ssp585\")"
   ]
  },
  {
   "cell_type": "markdown",
   "metadata": {},
   "source": [
    "### Read CMIP5 data"
   ]
  },
  {
   "cell_type": "code",
   "execution_count": 4,
   "metadata": {},
   "outputs": [
    {
     "name": "stdout",
     "output_type": "stream",
     "text": [
      " -- {'varn': 'tas', 'postprocess': 'global_mean', 'table': 'Amon', 'model': 'CESM1-WACCM', 'exp': 'rcp26', 'ens': 'r2i1p1', 'ensnumber': 0}: no data for 1850 - 1900 (1955..2099)\n",
      " -- {'varn': 'tas', 'postprocess': 'global_mean', 'table': 'Amon', 'model': 'GFDL-CM3', 'exp': 'rcp26', 'ens': 'r1i1p1', 'ensnumber': 0}: no data for 1850 - 1900 (1860..2100)\n",
      " -- {'varn': 'tas', 'postprocess': 'global_mean', 'table': 'Amon', 'model': 'GFDL-ESM2G', 'exp': 'rcp26', 'ens': 'r1i1p1', 'ensnumber': 0}: no data for 1850 - 1900 (1861..2100)\n",
      " -- {'varn': 'tas', 'postprocess': 'global_mean', 'table': 'Amon', 'model': 'GFDL-ESM2M', 'exp': 'rcp26', 'ens': 'r1i1p1', 'ensnumber': 0}: no data for 1850 - 1900 (1861..2100)\n",
      " -- {'varn': 'tas', 'postprocess': 'global_mean', 'table': 'Amon', 'model': 'HadGEM2-AO', 'exp': 'rcp26', 'ens': 'r1i1p1', 'ensnumber': 0}: no data for 1850 - 1900 (1860..2100)\n",
      " -- {'varn': 'tas', 'postprocess': 'global_mean', 'table': 'Amon', 'model': 'HadGEM2-ES', 'exp': 'rcp26', 'ens': 'r1i1p1', 'ensnumber': 0}: no data for 1850 - 1900 (1859..2100)\n",
      " -- {'varn': 'tas', 'postprocess': 'global_mean', 'table': 'Amon', 'model': 'CESM1-WACCM', 'exp': 'rcp45', 'ens': 'r2i1p1', 'ensnumber': 0}: no data for 1850 - 1900 (1955..2099)\n",
      " -- {'varn': 'tas', 'postprocess': 'global_mean', 'table': 'Amon', 'model': 'CSIRO-Mk3L-1-2', 'exp': 'rcp45', 'ens': 'r1i2p1', 'ensnumber': 0}: no data for 1850 - 1900 (1851..2100)\n",
      " -- {'varn': 'tas', 'postprocess': 'global_mean', 'table': 'Amon', 'model': 'CanCM4', 'exp': 'rcp45', 'ens': 'r1i1p1', 'ensnumber': 0}: no data for 1850 - 1900 (1961..2035)\n",
      " -- {'varn': 'tas', 'postprocess': 'global_mean', 'table': 'Amon', 'model': 'GFDL-CM2p1', 'exp': 'rcp45', 'ens': 'r1i1p1', 'ensnumber': 0}: no data for 1850 - 1900 (1861..2040)\n",
      " -- {'varn': 'tas', 'postprocess': 'global_mean', 'table': 'Amon', 'model': 'GFDL-CM3', 'exp': 'rcp45', 'ens': 'r1i1p1', 'ensnumber': 0}: no data for 1850 - 1900 (1860..2100)\n",
      " -- {'varn': 'tas', 'postprocess': 'global_mean', 'table': 'Amon', 'model': 'GFDL-ESM2G', 'exp': 'rcp45', 'ens': 'r1i1p1', 'ensnumber': 0}: no data for 1850 - 1900 (1861..2100)\n",
      " -- {'varn': 'tas', 'postprocess': 'global_mean', 'table': 'Amon', 'model': 'GFDL-ESM2M', 'exp': 'rcp45', 'ens': 'r1i1p1', 'ensnumber': 0}: no data for 1850 - 1900 (1861..2100)\n",
      " -- {'varn': 'tas', 'postprocess': 'global_mean', 'table': 'Amon', 'model': 'HadCM3', 'exp': 'rcp45', 'ens': 'r1i1p1', 'ensnumber': 0}: no data for 1850 - 1900 (1859..2035)\n",
      " -- {'varn': 'tas', 'postprocess': 'global_mean', 'table': 'Amon', 'model': 'HadGEM2-AO', 'exp': 'rcp45', 'ens': 'r1i1p1', 'ensnumber': 0}: no data for 1850 - 1900 (1860..2100)\n",
      " -- {'varn': 'tas', 'postprocess': 'global_mean', 'table': 'Amon', 'model': 'HadGEM2-CC', 'exp': 'rcp45', 'ens': 'r1i1p1', 'ensnumber': 0}: no data for 1850 - 1900 (1859..2100)\n",
      " -- {'varn': 'tas', 'postprocess': 'global_mean', 'table': 'Amon', 'model': 'HadGEM2-ES', 'exp': 'rcp45', 'ens': 'r1i1p1', 'ensnumber': 0}: no data for 1850 - 1900 (1859..2100)\n",
      " -- {'varn': 'tas', 'postprocess': 'global_mean', 'table': 'Amon', 'model': 'MIROC4h', 'exp': 'rcp45', 'ens': 'r1i1p1', 'ensnumber': 0}: no data for 1850 - 1900 (1950..2035)\n",
      " -- {'varn': 'tas', 'postprocess': 'global_mean', 'table': 'Amon', 'model': 'GFDL-CM3', 'exp': 'rcp60', 'ens': 'r1i1p1', 'ensnumber': 0}: no data for 1850 - 1900 (1860..2100)\n",
      " -- {'varn': 'tas', 'postprocess': 'global_mean', 'table': 'Amon', 'model': 'GFDL-ESM2G', 'exp': 'rcp60', 'ens': 'r1i1p1', 'ensnumber': 0}: no data for 1850 - 1900 (1861..2100)\n",
      " -- {'varn': 'tas', 'postprocess': 'global_mean', 'table': 'Amon', 'model': 'GFDL-ESM2M', 'exp': 'rcp60', 'ens': 'r1i1p1', 'ensnumber': 0}: no data for 1850 - 1900 (1861..2100)\n",
      " -- {'varn': 'tas', 'postprocess': 'global_mean', 'table': 'Amon', 'model': 'HadGEM2-AO', 'exp': 'rcp60', 'ens': 'r1i1p1', 'ensnumber': 0}: no data for 1850 - 1900 (1860..2100)\n",
      " -- {'varn': 'tas', 'postprocess': 'global_mean', 'table': 'Amon', 'model': 'HadGEM2-ES', 'exp': 'rcp60', 'ens': 'r1i1p1', 'ensnumber': 0}: no data for 1850 - 1900 (1859..2099)\n",
      " -- {'varn': 'tas', 'postprocess': 'global_mean', 'table': 'Amon', 'model': 'CESM1-WACCM', 'exp': 'rcp85', 'ens': 'r2i1p1', 'ensnumber': 0}: no data for 1850 - 1900 (1955..2099)\n",
      " -- {'varn': 'tas', 'postprocess': 'global_mean', 'table': 'Amon', 'model': 'GFDL-CM3', 'exp': 'rcp85', 'ens': 'r1i1p1', 'ensnumber': 0}: no data for 1850 - 1900 (1860..2100)\n",
      " -- {'varn': 'tas', 'postprocess': 'global_mean', 'table': 'Amon', 'model': 'GFDL-ESM2G', 'exp': 'rcp85', 'ens': 'r1i1p1', 'ensnumber': 0}: no data for 1850 - 1900 (1861..2100)\n",
      " -- {'varn': 'tas', 'postprocess': 'global_mean', 'table': 'Amon', 'model': 'GFDL-ESM2M', 'exp': 'rcp85', 'ens': 'r1i1p1', 'ensnumber': 0}: no data for 1850 - 1900 (1861..2100)\n",
      " -- {'varn': 'tas', 'postprocess': 'global_mean', 'table': 'Amon', 'model': 'HadGEM2-AO', 'exp': 'rcp85', 'ens': 'r1i1p1', 'ensnumber': 0}: no data for 1850 - 1900 (1860..2100)\n",
      " -- {'varn': 'tas', 'postprocess': 'global_mean', 'table': 'Amon', 'model': 'HadGEM2-CC', 'exp': 'rcp85', 'ens': 'r1i1p1', 'ensnumber': 0}: no data for 1850 - 1900 (1859..2100)\n",
      " -- {'varn': 'tas', 'postprocess': 'global_mean', 'table': 'Amon', 'model': 'HadGEM2-ES', 'exp': 'rcp85', 'ens': 'r1i1p1', 'ensnumber': 0}: no data for 1850 - 1900 (1859..2100)\n",
      " -- {'varn': 'tas', 'postprocess': 'global_mean', 'table': 'Amon', 'model': 'MRI-ESM1', 'exp': 'rcp85', 'ens': 'r1i1p1', 'ensnumber': 0}: no data for 1850 - 1900 (1851..2100)\n"
     ]
    }
   ],
   "source": [
    "c5_tas = conf.cmip5.load_post_all_concat(\n",
    "    varn=\"tas\",\n",
    "    postprocess=\"global_mean\"\n",
    ")"
   ]
  },
  {
   "cell_type": "code",
   "execution_count": 5,
   "metadata": {},
   "outputs": [],
   "source": [
    "c5_tas_rcp26 = computation.select_by_metadata(c5_tas, exp=\"rcp26\")\n",
    "c5_tas_rcp45 = computation.select_by_metadata(c5_tas, exp=\"rcp45\")\n",
    "c5_tas_rcp60 = computation.select_by_metadata(c5_tas, exp=\"rcp60\")\n",
    "c5_tas_rcp85 = computation.select_by_metadata(c5_tas, exp=\"rcp85\")"
   ]
  },
  {
   "cell_type": "code",
   "execution_count": 6,
   "metadata": {},
   "outputs": [],
   "source": [
    "periods = {\n",
    "    \"2021-2040\": slice(2021, 2040),\n",
    "    \"2041-2060\": slice(2041, 2060),\n",
    "    \"2081-2100\": slice(2081, 2100),\n",
    "    \"2016-2035\": slice(2016, 2035),\n",
    "    \"2046-2065\": slice(2046, 2065),\n",
    "    \"2020\": slice(2011, 2030),\n",
    "    \"2030\": slice(2021, 2040),\n",
    "    \"2040\": slice(2031, 2050),\n",
    "    \"2050\": slice(2041, 2060),\n",
    "    \"2060\": slice(2051, 2070),\n",
    "    \"2070\": slice(2061, 2080),\n",
    "    \"2080\": slice(2071, 2090),\n",
    "    \"2090\": slice(2081, 2100),\n",
    "    \"2100\": slice(2091, 2100),\n",
    "}"
   ]
  },
  {
   "cell_type": "code",
   "execution_count": 7,
   "metadata": {},
   "outputs": [],
   "source": [
    "# root = \"../data/CCBox_11.1_Table_1_GWL/CCB_11.1_Table_1_GWL_{name}_{cmip}\""
   ]
  },
  {
   "cell_type": "code",
   "execution_count": 10,
   "metadata": {},
   "outputs": [],
   "source": [
    "def print_temperature_range(c_tas_ssp, name, cmip):\n",
    "\n",
    "    c_tas_ssp_comb = computation.concat_xarray_with_metadata(c_tas_ssp)\n",
    "\n",
    "    # fN = root.format(name=name, cmip=cmip)\n",
    "    # data_tables.save_simulation_info_raw(fN + \"_md_raw\", c_tas_ssp_comb, add_tas=False)\n",
    "\n",
    "    out = f\"{name} ({len(c_tas_ssp)})\\n\"\n",
    "\n",
    "    for name, period in periods.items():\n",
    "\n",
    "        period_mean = c_tas_ssp_comb.sel(year=period).tas.mean(\"year\")\n",
    "\n",
    "        r = period_mean.mean().item()\n",
    "\n",
    "        q = period_mean.quantile(q=(0.05, 0.95))\n",
    "\n",
    "        q05 = q.sel(quantile=\"0.05\").item()\n",
    "        q95 = q.sel(quantile=\"0.95\").item()\n",
    "\n",
    "        out += f\"{name:9s}: {r:1.1f} ({q05:1.1f}-{q95:1.1f})\\n\"\n",
    "\n",
    "    # with open(fN, \"w\") as f:\n",
    "        # f.writelines(out)\n",
    "\n",
    "    print(out)"
   ]
  },
  {
   "cell_type": "code",
   "execution_count": 11,
   "metadata": {},
   "outputs": [
    {
     "name": "stdout",
     "output_type": "stream",
     "text": [
      "SSP1-1.9 (14)\n",
      "2021-2040: 1.5 (1.1-2.1)\n",
      "2041-2060: 1.7 (1.2-2.3)\n",
      "2081-2100: 1.5 (1.0-2.2)\n",
      "2016-2035: 1.4 (1.0-2.0)\n",
      "2046-2065: 1.7 (1.2-2.3)\n",
      "2020     : 1.3 (0.9-1.8)\n",
      "2030     : 1.5 (1.1-2.1)\n",
      "2040     : 1.7 (1.2-2.2)\n",
      "2050     : 1.7 (1.2-2.3)\n",
      "2060     : 1.7 (1.1-2.3)\n",
      "2070     : 1.6 (1.1-2.3)\n",
      "2080     : 1.6 (1.0-2.2)\n",
      "2090     : 1.5 (1.0-2.2)\n",
      "2100     : 1.5 (1.0-2.2)\n",
      "\n",
      "SSP1-2.6 (41)\n",
      "2021-2040: 1.6 (1.1-2.2)\n",
      "2041-2060: 1.9 (1.3-2.7)\n",
      "2081-2100: 2.1 (1.3-2.8)\n",
      "2016-2035: 1.5 (1.0-2.0)\n",
      "2046-2065: 2.0 (1.3-2.8)\n",
      "2020     : 1.3 (0.9-1.8)\n",
      "2030     : 1.6 (1.1-2.2)\n",
      "2040     : 1.8 (1.2-2.5)\n",
      "2050     : 1.9 (1.3-2.7)\n",
      "2060     : 2.0 (1.4-2.9)\n",
      "2070     : 2.1 (1.4-2.9)\n",
      "2080     : 2.1 (1.4-2.9)\n",
      "2090     : 2.1 (1.3-2.8)\n",
      "2100     : 2.0 (1.4-2.8)\n",
      "\n",
      "SSP2-4.5 (42)\n",
      "2021-2040: 1.6 (1.1-2.3)\n",
      "2041-2060: 2.2 (1.6-3.0)\n",
      "2081-2100: 3.0 (2.1-4.0)\n",
      "2016-2035: 1.5 (1.0-2.1)\n",
      "2046-2065: 2.3 (1.7-3.1)\n",
      "2020     : 1.3 (0.9-1.9)\n",
      "2030     : 1.6 (1.1-2.3)\n",
      "2040     : 1.9 (1.3-2.6)\n",
      "2050     : 2.2 (1.6-3.0)\n",
      "2060     : 2.4 (1.7-3.3)\n",
      "2070     : 2.7 (1.9-3.4)\n",
      "2080     : 2.8 (2.0-3.7)\n",
      "2090     : 3.0 (2.1-4.0)\n",
      "2100     : 3.1 (2.1-4.1)\n",
      "\n",
      "SSP3-7.0 (35)\n",
      "2021-2040: 1.6 (1.1-2.4)\n",
      "2041-2060: 2.3 (1.6-3.2)\n",
      "2081-2100: 4.0 (2.9-5.6)\n",
      "2016-2035: 1.4 (1.0-2.1)\n",
      "2046-2065: 2.5 (1.8-3.5)\n",
      "2020     : 1.3 (0.9-1.8)\n",
      "2030     : 1.6 (1.1-2.4)\n",
      "2040     : 1.9 (1.3-2.8)\n",
      "2050     : 2.3 (1.6-3.2)\n",
      "2060     : 2.7 (1.9-3.7)\n",
      "2070     : 3.1 (2.2-4.2)\n",
      "2080     : 3.6 (2.6-4.9)\n",
      "2090     : 4.0 (2.9-5.6)\n",
      "2100     : 4.3 (3.1-6.0)\n",
      "\n",
      "SSP5-8.5 (44)\n",
      "2021-2040: 1.7 (1.2-2.4)\n",
      "2041-2060: 2.6 (1.9-3.4)\n",
      "2081-2100: 5.0 (3.6-6.9)\n",
      "2016-2035: 1.5 (1.1-2.1)\n",
      "2046-2065: 2.9 (2.1-3.7)\n",
      "2020     : 1.4 (0.9-1.8)\n",
      "2030     : 1.7 (1.2-2.4)\n",
      "2040     : 2.1 (1.5-2.8)\n",
      "2050     : 2.6 (1.9-3.4)\n",
      "2060     : 3.2 (2.2-4.2)\n",
      "2070     : 3.7 (2.7-5.1)\n",
      "2080     : 4.3 (3.2-6.1)\n",
      "2090     : 5.0 (3.6-6.9)\n",
      "2100     : 5.3 (3.8-7.3)\n",
      "\n"
     ]
    }
   ],
   "source": [
    "print_temperature_range(c6_tas_ssp119, \"SSP1-1.9\", \"cmip6\")\n",
    "print_temperature_range(c6_tas_ssp126, \"SSP1-2.6\", \"cmip6\")\n",
    "print_temperature_range(c6_tas_ssp245, \"SSP2-4.5\", \"cmip6\")\n",
    "print_temperature_range(c6_tas_ssp370, \"SSP3-7.0\", \"cmip6\")\n",
    "print_temperature_range(c6_tas_ssp585, \"SSP5-8.5\", \"cmip6\")"
   ]
  },
  {
   "cell_type": "markdown",
   "metadata": {},
   "source": [
    "### For CMIP5"
   ]
  },
  {
   "cell_type": "code",
   "execution_count": 12,
   "metadata": {},
   "outputs": [
    {
     "name": "stdout",
     "output_type": "stream",
     "text": [
      "RCP2.6 (21)\n",
      "2021-2040: 1.5 (1.1-2.0)\n",
      "2041-2060: 1.7 (1.3-2.2)\n",
      "2081-2100: 1.7 (1.1-2.3)\n",
      "2016-2035: 1.4 (1.0-1.9)\n",
      "2046-2065: 1.7 (1.2-2.2)\n",
      "2020     : 1.4 (1.0-1.8)\n",
      "2030     : 1.5 (1.1-2.0)\n",
      "2040     : 1.7 (1.2-2.2)\n",
      "2050     : 1.7 (1.3-2.2)\n",
      "2060     : 1.7 (1.2-2.3)\n",
      "2070     : 1.7 (1.2-2.3)\n",
      "2080     : 1.7 (1.1-2.3)\n",
      "2090     : 1.7 (1.1-2.3)\n",
      "2100     : 1.7 (1.0-2.3)\n",
      "\n",
      "RCP4.5 (30)\n",
      "2021-2040: 1.6 (1.2-2.0)\n",
      "2041-2060: 2.0 (1.5-2.6)\n",
      "2081-2100: 2.5 (1.8-3.2)\n",
      "2016-2035: 1.4 (1.1-1.9)\n",
      "2046-2065: 2.1 (1.6-2.7)\n",
      "2020     : 1.3 (0.9-1.7)\n",
      "2030     : 1.6 (1.2-2.0)\n",
      "2040     : 1.8 (1.4-2.3)\n",
      "2050     : 2.0 (1.5-2.6)\n",
      "2060     : 2.2 (1.6-2.8)\n",
      "2070     : 2.3 (1.7-3.0)\n",
      "2080     : 2.4 (1.8-3.1)\n",
      "2090     : 2.5 (1.8-3.2)\n",
      "2100     : 2.5 (1.9-3.2)\n",
      "\n",
      "RCP6.0 (14)\n",
      "2021-2040: 1.5 (1.0-1.9)\n",
      "2041-2060: 1.9 (1.4-2.4)\n",
      "2081-2100: 2.8 (2.3-3.6)\n",
      "2016-2035: 1.4 (0.9-1.8)\n",
      "2046-2065: 2.0 (1.5-2.5)\n",
      "2020     : 1.3 (0.9-1.7)\n",
      "2030     : 1.5 (1.0-1.9)\n",
      "2040     : 1.7 (1.2-2.1)\n",
      "2050     : 1.9 (1.4-2.4)\n",
      "2060     : 2.1 (1.6-2.6)\n",
      "2070     : 2.3 (1.9-2.9)\n",
      "2080     : 2.6 (2.1-3.3)\n",
      "2090     : 2.8 (2.3-3.6)\n",
      "2100     : 2.9 (2.4-3.7)\n",
      "\n",
      "RCP8.5 (32)\n",
      "2021-2040: 1.7 (1.2-2.3)\n",
      "2041-2060: 2.5 (1.9-3.2)\n",
      "2081-2100: 4.4 (3.2-5.5)\n",
      "2016-2035: 1.5 (1.1-2.1)\n",
      "2046-2065: 2.7 (2.1-3.5)\n",
      "2020     : 1.4 (1.0-1.8)\n",
      "2030     : 1.7 (1.2-2.3)\n",
      "2040     : 2.1 (1.6-2.7)\n",
      "2050     : 2.5 (1.9-3.2)\n",
      "2060     : 2.9 (2.3-3.8)\n",
      "2070     : 3.4 (2.6-4.3)\n",
      "2080     : 3.9 (2.9-4.9)\n",
      "2090     : 4.4 (3.2-5.5)\n",
      "2100     : 4.6 (3.4-5.7)\n",
      "\n"
     ]
    }
   ],
   "source": [
    "print_temperature_range(c5_tas_rcp26, \"RCP2.6\", \"cmip5\")\n",
    "print_temperature_range(c5_tas_rcp45, \"RCP4.5\", \"cmip5\")\n",
    "print_temperature_range(c5_tas_rcp60, \"RCP6.0\", \"cmip5\")\n",
    "print_temperature_range(c5_tas_rcp85, \"RCP8.5\", \"cmip5\")"
   ]
  }
 ],
 "metadata": {
  "kernelspec": {
   "display_name": "Python (ipcc_ar6)",
   "language": "python",
   "name": "ipcc_ar6"
  },
  "language_info": {
   "codemirror_mode": {
    "name": "ipython",
    "version": 3
   },
   "file_extension": ".py",
   "mimetype": "text/x-python",
   "name": "python",
   "nbconvert_exporter": "python",
   "pygments_lexer": "ipython3",
   "version": "3.7.6"
  }
 },
 "nbformat": 4,
 "nbformat_minor": 4
}
