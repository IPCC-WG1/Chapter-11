{
 "cells": [
  {
   "cell_type": "markdown",
   "metadata": {},
   "source": [
    "# Gather data tables\n",
    "\n",
    "Helper notebook to process the raw data tables.\n",
    "\n",
    "Author: Mathias Hauser"
   ]
  },
  {
   "cell_type": "code",
   "execution_count": 1,
   "metadata": {},
   "outputs": [],
   "source": [
    "import glob\n",
    "\n",
    "import data_tables\n",
    "import pandas as pd\n",
    "\n",
    "import conf"
   ]
  },
  {
   "cell_type": "markdown",
   "metadata": {},
   "source": [
    "### Figure 11.3 - TXx scaling"
   ]
  },
  {
   "cell_type": "code",
   "execution_count": 2,
   "metadata": {},
   "outputs": [
    {
     "name": "stdout",
     "output_type": "stream",
     "text": [
      "Reading 300 files\n"
     ]
    }
   ],
   "source": [
    "name = (\"Figure_11.3_TXx_scaling\", \"Figure_11.3_TXx_scaling\", \"data_tables\")\n",
    "fN = conf.cmip6.figure_filename(*name, add_prefix=False)\n",
    "\n",
    "fNs = glob.glob(fN + \"_md_raw\")\n",
    "data_tables.save_cmip6_info_post(fNs, fN_out=fN + \"_md_cmip6.txt\")"
   ]
  },
  {
   "cell_type": "markdown",
   "metadata": {},
   "source": [
    "### Figure 11.11 - TXx & TNn maps"
   ]
  },
  {
   "cell_type": "code",
   "execution_count": 3,
   "metadata": {},
   "outputs": [
    {
     "name": "stdout",
     "output_type": "stream",
     "text": [
      "6\n",
      "Reading 435 files\n"
     ]
    }
   ],
   "source": [
    "name = \"TXx_at_w_simple_hatch\", \"Figure_11.11_TXx_map\", \"data_tables\"\n",
    "fN = conf.cmip6.figure_filename(*name)\n",
    "fNs = glob.glob(fN + \"_*_md_raw\")\n",
    "\n",
    "name = \"TNn_at_w_simple_hatch\", \"Figure_11.11_TNn_map\", \"data_tables\"\n",
    "fN = conf.cmip6.figure_filename(*name)\n",
    "fNs += glob.glob(fN + \"_*_md_raw\")\n",
    "\n",
    "print(len(fNs))\n",
    "\n",
    "name = (\"Figure_11.11_TXx_TNn\", \"Figure_11.11_TXx_TNn_combined\", \"data_tables\")\n",
    "fN = conf.cmip6.figure_filename(*name, add_prefix=False)\n",
    "data_tables.save_cmip6_info_post(fNs, fN_out=fN + \"_md_cmip6.txt\")"
   ]
  },
  {
   "cell_type": "markdown",
   "metadata": {},
   "source": [
    "### Figure 11.16 - Rx1day maps"
   ]
  },
  {
   "cell_type": "code",
   "execution_count": 4,
   "metadata": {},
   "outputs": [
    {
     "name": "stdout",
     "output_type": "stream",
     "text": [
      "3\n",
      "Reading 324 files\n"
     ]
    }
   ],
   "source": [
    "name = \"Figure_11.16_Rx1day_at_w_simple\", \"Figure_11.16_Rx1day_map\", \"data_tables\"\n",
    "fN = conf.cmip6.figure_filename(*name, add_prefix=False)\n",
    "fNs = glob.glob(fN + \"_*_md_raw\")\n",
    "\n",
    "print(len(fNs))\n",
    "data_tables.save_cmip6_info_post(fNs, fN_out=fN + \"_md_cmip6.txt\")"
   ]
  },
  {
   "cell_type": "markdown",
   "metadata": {},
   "source": [
    "### Figure 11.18 - SMdrought (drought prone regions)"
   ]
  },
  {
   "cell_type": "code",
   "execution_count": 5,
   "metadata": {},
   "outputs": [
    {
     "name": "stdout",
     "output_type": "stream",
     "text": [
      "1\n",
      "Reading 352 files\n"
     ]
    }
   ],
   "source": [
    "name = (\n",
    "    \"Figure_11.18ab_SMDroughtIndex_dpr_intensity_frequency\",\n",
    "    \"Figure_11.18_SM_drought_dpr\",\n",
    "    \"data_tables\",\n",
    ")\n",
    "fN = conf.cmip6.figure_filename(*name, add_prefix=False)\n",
    "fNs = glob.glob(fN + \"_all_md_raw\")\n",
    "\n",
    "print(len(fNs))\n",
    "data_tables.save_cmip6_info_post(fNs, fN_out=fN + \"_md_cmip6.txt\")"
   ]
  },
  {
   "cell_type": "markdown",
   "metadata": {},
   "source": [
    "### Figure 11.19 - CDD, SM, SMdrought frequency"
   ]
  },
  {
   "cell_type": "code",
   "execution_count": 6,
   "metadata": {},
   "outputs": [
    {
     "name": "stdout",
     "output_type": "stream",
     "text": [
      "12\n",
      "Reading 686 files\n"
     ]
    }
   ],
   "source": [
    "fN = conf.cmip6.figure_filename(\"CDD_at_w_simple\", \"Figure_11.19_CDD_map\", \"data_tables\")\n",
    "fNs = glob.glob(fN + \"_*_md_raw\")\n",
    "\n",
    "fN = conf.cmip6.figure_filename(\"SM_tot_at_w_norm_simple_hatch\", \"Figure_11.19_SM_map\", \"data_tables\")\n",
    "fNs += glob.glob(fN + \"_*_md_raw\")\n",
    "\n",
    "fN = conf.cmip6.figure_filename(\n",
    "    f\"sm_drought_frequency_JJA_wrt_1850_1900\", \"Figure_11.19_SM_drought_map\", \"data_tables\"\n",
    ")\n",
    "fNs += glob.glob(fN + \"_*_md_raw\")\n",
    "\n",
    "fN = conf.cmip6.figure_filename(\n",
    "    f\"sm_drought_frequency_DJF_wrt_1850_1900\", \"Figure_11.19_SM_drought_map\", \"data_tables\"\n",
    ")\n",
    "fNs += glob.glob(fN + \"_*_md_raw\")\n",
    "\n",
    "print(len(fNs))\n",
    "fN = conf.cmip6.figure_filename(\n",
    "    \"Figure_11.19_CDD_SM\", \"Figure_11.19_CDD_SM_combined\", \"data_tables\", add_prefix=False\n",
    ")\n",
    "data_tables.save_cmip6_info_post(fNs, fN_out=fN + \"_md_cmip6.txt\")"
   ]
  },
  {
   "cell_type": "markdown",
   "metadata": {},
   "source": [
    "### FAQ 11.1 Figure 1 - mean vs. extreme"
   ]
  },
  {
   "cell_type": "code",
   "execution_count": 7,
   "metadata": {},
   "outputs": [
    {
     "name": "stdout",
     "output_type": "stream",
     "text": [
      "4\n",
      "Reading 342 files\n"
     ]
    }
   ],
   "source": [
    "name = \"FAQ_11.1_Figure_1_mean_vs_extreme\", \"FAQ_11.1_Figure_1\", \"data_tables\"\n",
    "fN = conf.cmip6.figure_filename(*name, add_prefix=False)\n",
    "fNs = glob.glob(fN + \"_*_md_raw\")\n",
    "\n",
    "print(len(fNs))\n",
    "data_tables.save_cmip6_info_post(fNs, fN_out=fN + \"_md_cmip6.txt\")"
   ]
  },
  {
   "cell_type": "markdown",
   "metadata": {},
   "source": [
    "### Table 11.SM.1"
   ]
  },
  {
   "cell_type": "code",
   "execution_count": 8,
   "metadata": {},
   "outputs": [
    {
     "name": "stdout",
     "output_type": "stream",
     "text": [
      "4\n",
      "Reading 194 files\n"
     ]
    }
   ],
   "source": [
    "fN = \"../../cmip_temperatures/temperatures/cmip5/data_tables/cmip5_temperatures_one_ens_1850_1900\"\n",
    "\n",
    "fNs = glob.glob(fN + \"_rcp*_md_raw\")\n",
    "print(len(fNs))\n",
    "data_tables.save_cmip5_info_post(fNs, fN_out=fN + \"_md_cmip5.txt\")"
   ]
  },
  {
   "cell_type": "markdown",
   "metadata": {},
   "source": [
    "### Figure 12.4 S12.4 SM data_tables"
   ]
  },
  {
   "cell_type": "code",
   "execution_count": 9,
   "metadata": {},
   "outputs": [
    {
     "name": "stdout",
     "output_type": "stream",
     "text": [
      "2\n",
      "Reading 104 files\n"
     ]
    }
   ],
   "source": [
    "fN = conf.cmip6.figure_filename(\n",
    "    \"SM_tot_time_ave\", \"Figure_12.4_S12.4_SM_data_tables\", \"data_tables\"\n",
    ")\n",
    "\n",
    "fNs = glob.glob(fN + \"_*_md_raw\")\n",
    "print(len(fNs))\n",
    "data_tables.save_cmip6_info_post(fNs, fN_out=fN + \"_md.txt\")"
   ]
  },
  {
   "cell_type": "code",
   "execution_count": 10,
   "metadata": {},
   "outputs": [
    {
     "name": "stdout",
     "output_type": "stream",
     "text": [
      "3\n",
      "Reading 194 files\n"
     ]
    }
   ],
   "source": [
    "fN = conf.cmip6.figure_filename(\n",
    "    \"SM_tot_at_w\", \"Figure_12.4_S12.4_SM_data_tables\", \"data_tables\"\n",
    ")\n",
    "\n",
    "fNs = glob.glob(fN + \"_*_md_raw\")\n",
    "print(len(fNs))\n",
    "data_tables.save_cmip6_info_post(fNs, fN_out=fN + \"_md.txt\")"
   ]
  },
  {
   "cell_type": "markdown",
   "metadata": {},
   "source": [
    "###  Figure 11.SM.1 TNn scaling"
   ]
  },
  {
   "cell_type": "code",
   "execution_count": 11,
   "metadata": {},
   "outputs": [
    {
     "name": "stdout",
     "output_type": "stream",
     "text": [
      "1\n",
      "Reading 306 files\n"
     ]
    }
   ],
   "source": [
    "FIGURE_FOLDER = \"Figure_11.SM.1_TNn_scaling\"\n",
    "\n",
    "fN = conf.cmip6.figure_filename(\n",
    "    \"Figure_11.A.1_TNn_scaling\", FIGURE_FOLDER, \"data_tables\", add_prefix=False\n",
    ")\n",
    "\n",
    "fNs = glob.glob(fN + \"_md_raw\")\n",
    "print(len(fNs))\n",
    "data_tables.save_cmip6_info_post(fNs, fN_out=fN + \"_md_cmip6.txt\")"
   ]
  }
 ],
 "metadata": {
  "kernelspec": {
   "display_name": "Python (ipcc_ar6)",
   "language": "python",
   "name": "ipcc_ar6"
  },
  "language_info": {
   "codemirror_mode": {
    "name": "ipython",
    "version": 3
   },
   "file_extension": ".py",
   "mimetype": "text/x-python",
   "name": "python",
   "nbconvert_exporter": "python",
   "pygments_lexer": "ipython3",
   "version": "3.7.6"
  }
 },
 "nbformat": 4,
 "nbformat_minor": 4
}
