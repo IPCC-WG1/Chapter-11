{
 "cells": [
  {
   "cell_type": "markdown",
   "metadata": {},
   "source": [
    "# CMIP regional indices\n",
    "\n",
    "These numbers are used for\n",
    "\n",
    "- https://github.com/mathause/cmip_indices_regional\n",
    "- Table 11.SM.2 to Table 11.SM.8\n",
    "\n",
    "Author: Mathias Hauser"
   ]
  },
  {
   "cell_type": "code",
   "execution_count": 1,
   "metadata": {},
   "outputs": [],
   "source": [
    "import os\n",
    "import textwrap\n",
    "\n",
    "import data_tables\n",
    "import numpy as np\n",
    "import pandas as pd\n",
    "import seaborn as sns\n",
    "import matplotlib.pyplot as plt\n",
    "\n",
    "import conf\n",
    "import filefinder\n",
    "from utils import computation, file_utils"
   ]
  },
  {
   "cell_type": "code",
   "execution_count": 2,
   "metadata": {},
   "outputs": [],
   "source": [
    "warming_levels = [1.5, 2.0, 3.0, 4.0]"
   ]
  },
  {
   "cell_type": "markdown",
   "metadata": {},
   "source": [
    "## Read CMIP6 data"
   ]
  },
  {
   "cell_type": "markdown",
   "metadata": {},
   "source": [
    "### Global mean temperatures"
   ]
  },
  {
   "cell_type": "code",
   "execution_count": 3,
   "metadata": {
    "scrolled": true
   },
   "outputs": [
    {
     "name": "stdout",
     "output_type": "stream",
     "text": [
      " -- {'varn': 'tas', 'postprocess': 'global_mean', 'table': 'Amon', 'model': 'IITM-ESM', 'exp': 'ssp370', 'ens': 'r1i1p1f1', 'grid': 'gn', 'ensnumber': 0}: no data for 2099 - 2099 (1850..2098)\n"
     ]
    }
   ],
   "source": [
    "c6_tas = conf.cmip6.load_post_all_concat(\n",
    "    varn=\"tas\",\n",
    "    postprocess=\"global_mean\",\n",
    ")"
   ]
  },
  {
   "cell_type": "code",
   "execution_count": 4,
   "metadata": {},
   "outputs": [],
   "source": [
    "def get_data(varn, postprocess, anomaly):\n",
    "    c6_index_reg = conf.cmip6.load_post_all_concat(\n",
    "        varn=varn, postprocess=postprocess, anomaly=anomaly\n",
    "    )\n",
    "\n",
    "    c6_at_warming_index = computation.at_warming_levels_dict(\n",
    "        c6_tas, c6_index_reg, warming_levels=warming_levels\n",
    "    )\n",
    "\n",
    "    return c6_at_warming_index"
   ]
  },
  {
   "cell_type": "code",
   "execution_count": 5,
   "metadata": {},
   "outputs": [
    {
     "name": "stdout",
     "output_type": "stream",
     "text": [
      "-- no data found for: {'exp': 'historical', 'varn': 'tasmax', 'postprocess': 'txx_reg_ave_ar6', 'table': 'day', 'model': 'EC-Earth3', 'ens': 'r4i1p1f1', 'grid': 'gr', 'ensnumber': 0}\n",
      "-- no data found for: {'exp': 'historical', 'varn': 'tasmax', 'postprocess': 'txx_reg_ave_ar6', 'table': 'day', 'model': 'IITM-ESM', 'ens': 'r1i1p1f1', 'grid': 'gn', 'ensnumber': 0}\n",
      "-- no data found for: {'exp': 'historical', 'varn': 'tasmax', 'postprocess': 'txx_reg_ave_ar6', 'table': 'day', 'model': 'GISS-E2-1-G', 'ens': 'r1i1p5f2', 'grid': 'gn', 'ensnumber': 0}\n",
      " -- {'varn': 'tasmax', 'postprocess': 'txx_reg_ave_ar6', 'table': 'day', 'model': 'BCC-ESM1', 'exp': 'ssp370', 'ens': 'r1i1p1f1', 'grid': 'gn', 'ensnumber': 0}: no data for 2099 - 2099 (1850..2055)\n",
      " -- {'varn': 'tasmax', 'postprocess': 'txx_reg_ave_ar6', 'table': 'day', 'model': 'MPI-ESM-1-2-HAM', 'exp': 'ssp370', 'ens': 'r1i1p1f1', 'grid': 'gn', 'ensnumber': 0}: no data for 2099 - 2099 (1850..2055)\n"
     ]
    }
   ],
   "source": [
    "c6_at_warming_txx = get_data(\n",
    "    varn=\"tasmax\", postprocess=\"txx_reg_ave_ar6\", anomaly=\"absolute\"\n",
    ")"
   ]
  },
  {
   "cell_type": "code",
   "execution_count": 6,
   "metadata": {},
   "outputs": [
    {
     "name": "stdout",
     "output_type": "stream",
     "text": [
      "-- no data found for: {'exp': 'historical', 'varn': 'tasmin', 'postprocess': 'tnn_reg_ave_ar6', 'table': 'day', 'model': 'EC-Earth3', 'ens': 'r4i1p1f1', 'grid': 'gr', 'ensnumber': 0}\n",
      "-- no data found for: {'exp': 'historical', 'varn': 'tasmin', 'postprocess': 'tnn_reg_ave_ar6', 'table': 'day', 'model': 'IITM-ESM', 'ens': 'r1i1p1f1', 'grid': 'gn', 'ensnumber': 0}\n",
      "-- no data found for: {'exp': 'historical', 'varn': 'tasmin', 'postprocess': 'tnn_reg_ave_ar6', 'table': 'day', 'model': 'GISS-E2-1-G', 'ens': 'r1i1p5f2', 'grid': 'gn', 'ensnumber': 0}\n",
      " -- {'varn': 'tasmin', 'postprocess': 'tnn_reg_ave_ar6', 'table': 'day', 'model': 'BCC-ESM1', 'exp': 'ssp370', 'ens': 'r1i1p1f1', 'grid': 'gn', 'ensnumber': 0}: no data for 2099 - 2099 (1850..2055)\n",
      " -- {'varn': 'tasmin', 'postprocess': 'tnn_reg_ave_ar6', 'table': 'day', 'model': 'MPI-ESM-1-2-HAM', 'exp': 'ssp370', 'ens': 'r1i1p1f1', 'grid': 'gn', 'ensnumber': 0}: no data for 2099 - 2099 (1850..2055)\n"
     ]
    }
   ],
   "source": [
    "c6_at_warming_tnn = get_data(\n",
    "    varn=\"tasmin\", postprocess=\"tnn_reg_ave_ar6\", anomaly=\"absolute\"\n",
    ")"
   ]
  },
  {
   "cell_type": "code",
   "execution_count": 7,
   "metadata": {},
   "outputs": [
    {
     "name": "stdout",
     "output_type": "stream",
     "text": [
      "-- no data found for: {'exp': 'historical', 'varn': 'pr', 'postprocess': 'rx1day_reg_ave_ar6', 'table': 'day', 'model': 'EC-Earth3', 'ens': 'r4i1p1f1', 'grid': 'gr', 'ensnumber': 0}\n",
      "-- no data found for: {'exp': 'historical', 'varn': 'pr', 'postprocess': 'rx1day_reg_ave_ar6', 'table': 'day', 'model': 'AWI-CM-1-1-MR', 'ens': 'r1i1p1f1', 'grid': 'gn', 'ensnumber': 0}\n",
      "-- no data found for: {'exp': 'historical', 'varn': 'pr', 'postprocess': 'rx1day_reg_ave_ar6', 'table': 'day', 'model': 'AWI-CM-1-1-MR', 'ens': 'r1i1p1f1', 'grid': 'gn', 'ensnumber': 0}\n",
      "-- no data found for: {'exp': 'historical', 'varn': 'pr', 'postprocess': 'rx1day_reg_ave_ar6', 'table': 'day', 'model': 'GISS-E2-1-G', 'ens': 'r1i1p5f2', 'grid': 'gn', 'ensnumber': 0}\n",
      "-- no data found for: {'exp': 'historical', 'varn': 'pr', 'postprocess': 'rx1day_reg_ave_ar6', 'table': 'day', 'model': 'AWI-CM-1-1-MR', 'ens': 'r1i1p1f1', 'grid': 'gn', 'ensnumber': 0}\n",
      " -- {'varn': 'pr', 'postprocess': 'rx1day_reg_ave_ar6', 'table': 'day', 'model': 'BCC-ESM1', 'exp': 'ssp370', 'ens': 'r1i1p1f1', 'grid': 'gn', 'ensnumber': 0}: no data for 2099 - 2099 (1850..2055)\n",
      " -- {'varn': 'pr', 'postprocess': 'rx1day_reg_ave_ar6', 'table': 'day', 'model': 'IITM-ESM', 'exp': 'ssp370', 'ens': 'r1i1p1f1', 'grid': 'gn', 'ensnumber': 0}: no data for 2099 - 2099 (1850..2098)\n",
      " -- {'varn': 'pr', 'postprocess': 'rx1day_reg_ave_ar6', 'table': 'day', 'model': 'MPI-ESM-1-2-HAM', 'exp': 'ssp370', 'ens': 'r1i1p1f1', 'grid': 'gn', 'ensnumber': 0}: no data for 2099 - 2099 (1850..2055)\n",
      "-- no data found for: {'exp': 'historical', 'varn': 'pr', 'postprocess': 'rx1day_reg_ave_ar6', 'table': 'day', 'model': 'AWI-CM-1-1-MR', 'ens': 'r1i1p1f1', 'grid': 'gn', 'ensnumber': 0}\n"
     ]
    }
   ],
   "source": [
    "c6_at_warming_rx1day = get_data(\n",
    "    varn=\"pr\", postprocess=\"rx1day_reg_ave_ar6\", anomaly=\"relative\"\n",
    ")"
   ]
  },
  {
   "cell_type": "code",
   "execution_count": 8,
   "metadata": {},
   "outputs": [
    {
     "name": "stdout",
     "output_type": "stream",
     "text": [
      "-- no data found for: {'exp': 'historical', 'varn': 'pr', 'postprocess': 'rx5day_reg_ave_ar6', 'table': 'day', 'model': 'EC-Earth3', 'ens': 'r4i1p1f1', 'grid': 'gr', 'ensnumber': 0}\n",
      "-- no data found for: {'exp': 'historical', 'varn': 'pr', 'postprocess': 'rx5day_reg_ave_ar6', 'table': 'day', 'model': 'AWI-CM-1-1-MR', 'ens': 'r1i1p1f1', 'grid': 'gn', 'ensnumber': 0}\n",
      "-- no data found for: {'exp': 'historical', 'varn': 'pr', 'postprocess': 'rx5day_reg_ave_ar6', 'table': 'day', 'model': 'AWI-CM-1-1-MR', 'ens': 'r1i1p1f1', 'grid': 'gn', 'ensnumber': 0}\n",
      "-- no data found for: {'exp': 'historical', 'varn': 'pr', 'postprocess': 'rx5day_reg_ave_ar6', 'table': 'day', 'model': 'GISS-E2-1-G', 'ens': 'r1i1p5f2', 'grid': 'gn', 'ensnumber': 0}\n",
      "-- no data found for: {'exp': 'historical', 'varn': 'pr', 'postprocess': 'rx5day_reg_ave_ar6', 'table': 'day', 'model': 'AWI-CM-1-1-MR', 'ens': 'r1i1p1f1', 'grid': 'gn', 'ensnumber': 0}\n",
      " -- {'varn': 'pr', 'postprocess': 'rx5day_reg_ave_ar6', 'table': 'day', 'model': 'BCC-ESM1', 'exp': 'ssp370', 'ens': 'r1i1p1f1', 'grid': 'gn', 'ensnumber': 0}: no data for 2099 - 2099 (1850..2055)\n",
      " -- {'varn': 'pr', 'postprocess': 'rx5day_reg_ave_ar6', 'table': 'day', 'model': 'IITM-ESM', 'exp': 'ssp370', 'ens': 'r1i1p1f1', 'grid': 'gn', 'ensnumber': 0}: no data for 2099 - 2099 (1850..2098)\n",
      " -- {'varn': 'pr', 'postprocess': 'rx5day_reg_ave_ar6', 'table': 'day', 'model': 'MPI-ESM-1-2-HAM', 'exp': 'ssp370', 'ens': 'r1i1p1f1', 'grid': 'gn', 'ensnumber': 0}: no data for 2099 - 2099 (1850..2055)\n",
      "-- no data found for: {'exp': 'historical', 'varn': 'pr', 'postprocess': 'rx5day_reg_ave_ar6', 'table': 'day', 'model': 'AWI-CM-1-1-MR', 'ens': 'r1i1p1f1', 'grid': 'gn', 'ensnumber': 0}\n",
      " -- {'varn': 'pr', 'postprocess': 'rx5day_reg_ave_ar6', 'table': 'day', 'model': 'CMCC-ESM2', 'exp': 'ssp585', 'ens': 'r1i1p1f1', 'grid': 'gn', 'ensnumber': 0}: no data for 2099 - 2099 (1850..2039)\n"
     ]
    }
   ],
   "source": [
    "c6_at_warming_rx5day = get_data(\n",
    "    varn=\"pr\", postprocess=\"rx5day_reg_ave_ar6\", anomaly=\"relative\"\n",
    ")"
   ]
  },
  {
   "cell_type": "code",
   "execution_count": 9,
   "metadata": {},
   "outputs": [
    {
     "name": "stdout",
     "output_type": "stream",
     "text": [
      "-- no data found for: {'exp': 'historical', 'varn': 'mrso', 'postprocess': 'sm_annmean_reg_ave_ar6', 'table': 'Lmon', 'model': 'CAMS-CSM1-0', 'ens': 'r2i1p1f1', 'grid': 'gn', 'ensnumber': 0}\n",
      "-- no data found for: {'exp': 'historical', 'varn': 'mrso', 'postprocess': 'sm_annmean_reg_ave_ar6', 'table': 'Lmon', 'model': 'EC-Earth3', 'ens': 'r4i1p1f1', 'grid': 'gr', 'ensnumber': 0}\n",
      "-- no data found for: {'exp': 'historical', 'varn': 'mrso', 'postprocess': 'sm_annmean_reg_ave_ar6', 'table': 'Lmon', 'model': 'GISS-E2-1-G', 'ens': 'r1i1p1f2', 'grid': 'gn', 'ensnumber': 0}\n",
      "-- no data found for: {'exp': 'historical', 'varn': 'mrso', 'postprocess': 'sm_annmean_reg_ave_ar6', 'table': 'Lmon', 'model': 'CAMS-CSM1-0', 'ens': 'r2i1p1f1', 'grid': 'gn', 'ensnumber': 0}\n",
      "-- no data found for: {'exp': 'historical', 'varn': 'mrso', 'postprocess': 'sm_annmean_reg_ave_ar6', 'table': 'Lmon', 'model': 'GISS-E2-1-G', 'ens': 'r1i1p1f2', 'grid': 'gn', 'ensnumber': 0}\n",
      "-- no data found for: {'exp': 'historical', 'varn': 'mrso', 'postprocess': 'sm_annmean_reg_ave_ar6', 'table': 'Lmon', 'model': 'MCM-UA-1-0', 'ens': 'r1i1p1f2', 'grid': 'gn', 'ensnumber': 0}\n",
      "-- no data found for: {'exp': 'historical', 'varn': 'mrso', 'postprocess': 'sm_annmean_reg_ave_ar6', 'table': 'Lmon', 'model': 'CAMS-CSM1-0', 'ens': 'r2i1p1f1', 'grid': 'gn', 'ensnumber': 0}\n",
      "-- no data found for: {'exp': 'historical', 'varn': 'mrso', 'postprocess': 'sm_annmean_reg_ave_ar6', 'table': 'Lmon', 'model': 'GISS-E2-1-G', 'ens': 'r1i1p1f2', 'grid': 'gn', 'ensnumber': 0}\n",
      "-- no data found for: {'exp': 'historical', 'varn': 'mrso', 'postprocess': 'sm_annmean_reg_ave_ar6', 'table': 'Lmon', 'model': 'MCM-UA-1-0', 'ens': 'r1i1p1f2', 'grid': 'gn', 'ensnumber': 0}\n",
      " -- {'varn': 'mrso', 'postprocess': 'sm_annmean_reg_ave_ar6', 'table': 'Lmon', 'model': 'BCC-ESM1', 'exp': 'ssp370', 'ens': 'r1i1p1f1', 'grid': 'gn', 'ensnumber': 0}: no data for 2099 - 2099 (1850..2055)\n",
      "-- no data found for: {'exp': 'historical', 'varn': 'mrso', 'postprocess': 'sm_annmean_reg_ave_ar6', 'table': 'Lmon', 'model': 'CAMS-CSM1-0', 'ens': 'r2i1p1f1', 'grid': 'gn', 'ensnumber': 0}\n",
      "-- no data found for: {'exp': 'historical', 'varn': 'mrso', 'postprocess': 'sm_annmean_reg_ave_ar6', 'table': 'Lmon', 'model': 'GISS-E2-1-G', 'ens': 'r1i1p1f2', 'grid': 'gn', 'ensnumber': 0}\n",
      "-- no data found for: {'exp': 'historical', 'varn': 'mrso', 'postprocess': 'sm_annmean_reg_ave_ar6', 'table': 'Lmon', 'model': 'MCM-UA-1-0', 'ens': 'r1i1p1f2', 'grid': 'gn', 'ensnumber': 0}\n",
      " -- {'varn': 'mrso', 'postprocess': 'sm_annmean_reg_ave_ar6', 'table': 'Lmon', 'model': 'MPI-ESM-1-2-HAM', 'exp': 'ssp370', 'ens': 'r1i1p1f1', 'grid': 'gn', 'ensnumber': 0}: no data for 2099 - 2099 (1850..2055)\n",
      "-- no data found for: {'exp': 'historical', 'varn': 'mrso', 'postprocess': 'sm_annmean_reg_ave_ar6', 'table': 'Lmon', 'model': 'CAMS-CSM1-0', 'ens': 'r2i1p1f1', 'grid': 'gn', 'ensnumber': 0}\n",
      "-- no data found for: {'exp': 'historical', 'varn': 'mrso', 'postprocess': 'sm_annmean_reg_ave_ar6', 'table': 'Lmon', 'model': 'GISS-E2-1-G', 'ens': 'r1i1p1f2', 'grid': 'gn', 'ensnumber': 0}\n",
      "-- no data found for: {'exp': 'historical', 'varn': 'mrso', 'postprocess': 'sm_annmean_reg_ave_ar6', 'table': 'Lmon', 'model': 'MCM-UA-1-0', 'ens': 'r1i1p1f2', 'grid': 'gn', 'ensnumber': 0}\n"
     ]
    }
   ],
   "source": [
    "c6_at_warming_mrso = get_data(\n",
    "    varn=\"mrso\", postprocess=\"sm_annmean_reg_ave_ar6\", anomaly=\"norm\"\n",
    ")"
   ]
  },
  {
   "cell_type": "code",
   "execution_count": 10,
   "metadata": {},
   "outputs": [
    {
     "name": "stdout",
     "output_type": "stream",
     "text": [
      "-- no data found for: {'exp': 'historical', 'varn': 'mrsos', 'postprocess': 'sm_annmean_reg_ave_ar6', 'table': 'Lmon', 'model': 'CAMS-CSM1-0', 'ens': 'r2i1p1f1', 'grid': 'gn', 'ensnumber': 0}\n",
      "-- no data found for: {'exp': 'historical', 'varn': 'mrsos', 'postprocess': 'sm_annmean_reg_ave_ar6', 'table': 'Lmon', 'model': 'EC-Earth3', 'ens': 'r4i1p1f1', 'grid': 'gr', 'ensnumber': 0}\n",
      "-- no data found for: {'exp': 'historical', 'varn': 'mrsos', 'postprocess': 'sm_annmean_reg_ave_ar6', 'table': 'Lmon', 'model': 'GISS-E2-1-G', 'ens': 'r1i1p1f2', 'grid': 'gn', 'ensnumber': 0}\n",
      "-- no data found for: {'exp': 'historical', 'varn': 'mrsos', 'postprocess': 'sm_annmean_reg_ave_ar6', 'table': 'Lmon', 'model': 'CAMS-CSM1-0', 'ens': 'r2i1p1f1', 'grid': 'gn', 'ensnumber': 0}\n",
      "-- no data found for: {'exp': 'historical', 'varn': 'mrsos', 'postprocess': 'sm_annmean_reg_ave_ar6', 'table': 'Lmon', 'model': 'GISS-E2-1-G', 'ens': 'r1i1p1f2', 'grid': 'gn', 'ensnumber': 0}\n",
      "-- no data found for: {'exp': 'historical', 'varn': 'mrsos', 'postprocess': 'sm_annmean_reg_ave_ar6', 'table': 'Lmon', 'model': 'CAMS-CSM1-0', 'ens': 'r2i1p1f1', 'grid': 'gn', 'ensnumber': 0}\n",
      "-- no data found for: {'exp': 'historical', 'varn': 'mrsos', 'postprocess': 'sm_annmean_reg_ave_ar6', 'table': 'Lmon', 'model': 'GISS-E2-1-G', 'ens': 'r1i1p1f2', 'grid': 'gn', 'ensnumber': 0}\n",
      "-- no data found for: {'exp': 'historical', 'varn': 'mrsos', 'postprocess': 'sm_annmean_reg_ave_ar6', 'table': 'Lmon', 'model': 'HadGEM3-GC31-LL', 'ens': 'r2i1p1f3', 'grid': 'gn', 'ensnumber': 0}\n",
      " -- {'varn': 'mrsos', 'postprocess': 'sm_annmean_reg_ave_ar6', 'table': 'Lmon', 'model': 'BCC-ESM1', 'exp': 'ssp370', 'ens': 'r1i1p1f1', 'grid': 'gn', 'ensnumber': 0}: no data for 2099 - 2099 (1850..2055)\n",
      "-- no data found for: {'exp': 'historical', 'varn': 'mrsos', 'postprocess': 'sm_annmean_reg_ave_ar6', 'table': 'Lmon', 'model': 'CAMS-CSM1-0', 'ens': 'r2i1p1f1', 'grid': 'gn', 'ensnumber': 0}\n",
      "-- no data found for: {'exp': 'historical', 'varn': 'mrsos', 'postprocess': 'sm_annmean_reg_ave_ar6', 'table': 'Lmon', 'model': 'GISS-E2-1-G', 'ens': 'r1i1p1f2', 'grid': 'gn', 'ensnumber': 0}\n",
      " -- {'varn': 'mrsos', 'postprocess': 'sm_annmean_reg_ave_ar6', 'table': 'Lmon', 'model': 'MPI-ESM-1-2-HAM', 'exp': 'ssp370', 'ens': 'r1i1p1f1', 'grid': 'gn', 'ensnumber': 0}: no data for 2099 - 2099 (1850..2055)\n",
      "-- no data found for: {'exp': 'historical', 'varn': 'mrsos', 'postprocess': 'sm_annmean_reg_ave_ar6', 'table': 'Lmon', 'model': 'CAMS-CSM1-0', 'ens': 'r2i1p1f1', 'grid': 'gn', 'ensnumber': 0}\n",
      "-- no data found for: {'exp': 'historical', 'varn': 'mrsos', 'postprocess': 'sm_annmean_reg_ave_ar6', 'table': 'Lmon', 'model': 'GISS-E2-1-G', 'ens': 'r1i1p1f2', 'grid': 'gn', 'ensnumber': 0}\n"
     ]
    }
   ],
   "source": [
    "c6_at_warming_mrsos = get_data(\n",
    "    varn=\"mrsos\", postprocess=\"sm_annmean_reg_ave_ar6\", anomaly=\"norm\"\n",
    ")"
   ]
  },
  {
   "cell_type": "code",
   "execution_count": 11,
   "metadata": {},
   "outputs": [
    {
     "name": "stdout",
     "output_type": "stream",
     "text": [
      "-- no data found for: {'exp': 'historical', 'varn': 'pr', 'postprocess': 'cdd_reg_ave_ar6', 'table': 'day', 'model': 'EC-Earth3', 'ens': 'r4i1p1f1', 'grid': 'gr', 'ensnumber': 0}\n",
      "-- no data found for: {'exp': 'historical', 'varn': 'pr', 'postprocess': 'cdd_reg_ave_ar6', 'table': 'day', 'model': 'AWI-CM-1-1-MR', 'ens': 'r1i1p1f1', 'grid': 'gn', 'ensnumber': 0}\n",
      "-- no data found for: {'exp': 'historical', 'varn': 'pr', 'postprocess': 'cdd_reg_ave_ar6', 'table': 'day', 'model': 'AWI-CM-1-1-MR', 'ens': 'r1i1p1f1', 'grid': 'gn', 'ensnumber': 0}\n",
      "-- no data found for: {'exp': 'historical', 'varn': 'pr', 'postprocess': 'cdd_reg_ave_ar6', 'table': 'day', 'model': 'GISS-E2-1-G', 'ens': 'r1i1p5f2', 'grid': 'gn', 'ensnumber': 0}\n",
      "-- no data found for: {'exp': 'historical', 'varn': 'pr', 'postprocess': 'cdd_reg_ave_ar6', 'table': 'day', 'model': 'AWI-CM-1-1-MR', 'ens': 'r1i1p1f1', 'grid': 'gn', 'ensnumber': 0}\n",
      " -- {'varn': 'pr', 'postprocess': 'cdd_reg_ave_ar6', 'table': 'day', 'model': 'BCC-ESM1', 'exp': 'ssp370', 'ens': 'r1i1p1f1', 'grid': 'gn', 'ensnumber': 0}: no data for 2099 - 2099 (1850..2055)\n",
      " -- {'varn': 'pr', 'postprocess': 'cdd_reg_ave_ar6', 'table': 'day', 'model': 'IITM-ESM', 'exp': 'ssp370', 'ens': 'r1i1p1f1', 'grid': 'gn', 'ensnumber': 0}: no data for 2099 - 2099 (1850..2098)\n",
      " -- {'varn': 'pr', 'postprocess': 'cdd_reg_ave_ar6', 'table': 'day', 'model': 'MPI-ESM-1-2-HAM', 'exp': 'ssp370', 'ens': 'r1i1p1f1', 'grid': 'gn', 'ensnumber': 0}: no data for 2099 - 2099 (1850..2055)\n",
      "-- no data found for: {'exp': 'historical', 'varn': 'pr', 'postprocess': 'cdd_reg_ave_ar6', 'table': 'day', 'model': 'AWI-CM-1-1-MR', 'ens': 'r1i1p1f1', 'grid': 'gn', 'ensnumber': 0}\n",
      " -- {'varn': 'pr', 'postprocess': 'cdd_reg_ave_ar6', 'table': 'day', 'model': 'CMCC-ESM2', 'exp': 'ssp585', 'ens': 'r1i1p1f1', 'grid': 'gn', 'ensnumber': 0}: no data for 2099 - 2099 (1850..2039)\n"
     ]
    }
   ],
   "source": [
    "c6_at_warming_cdd = get_data(\n",
    "    varn=\"pr\", postprocess=\"cdd_reg_ave_ar6\", anomaly=\"absolute\"\n",
    ")"
   ]
  },
  {
   "cell_type": "code",
   "execution_count": 12,
   "metadata": {},
   "outputs": [],
   "source": [
    "ff = filefinder.FileFinder(\n",
    "    path_pattern=\"../../cmip_indices_regional/indices{what}/{extension}\",\n",
    "    file_pattern=\"cmip_indices{what}_regional_{index}.{extension}\",\n",
    ")\n",
    "\n",
    "ff_data_table = filefinder.FileFinder(\n",
    "    path_pattern=\"../../cmip_indices_regional/indices{what}/data_tables/{index}\",\n",
    "    file_pattern=\"cmip_indices_regional_{index}_md{wl}\",\n",
    ")"
   ]
  },
  {
   "cell_type": "markdown",
   "metadata": {},
   "source": [
    "## Helper functions"
   ]
  },
  {
   "cell_type": "code",
   "execution_count": 13,
   "metadata": {},
   "outputs": [],
   "source": [
    "def to_csv(fN, df, title, header, write_index=True):\n",
    "    \"\"\"save pandas.DataFrame to csv file\n",
    "\n",
    "    Parameters\n",
    "    ----------\n",
    "    fN : str\n",
    "        Filename.\n",
    "    df : pd.DataFrame\n",
    "        Pandas DataFrame to convert to a csv file.\n",
    "    title : str\n",
    "        Title of the csv file.\n",
    "    header : str\n",
    "        Header to add to the csv file. Should be prepended with '#'\n",
    "        to denote comments.\n",
    "    write_index : bool, default: True\n",
    "        Whether to add the index of the DataFrame.\n",
    "    \"\"\"\n",
    "\n",
    "    with open(fN, \"w\") as f:\n",
    "        f.writelines(title)\n",
    "        f.writelines(header)\n",
    "        df.to_csv(f, index=write_index)\n",
    "\n",
    "\n",
    "def to_markdown(fN, df, title, header):\n",
    "    \"\"\"save pandas.DataFrame in markdown format\n",
    "\n",
    "    Parameters\n",
    "    ----------\n",
    "    fN : str\n",
    "        Filename.\n",
    "    df : pd.DataFrame\n",
    "        Pandas DataFrame to convert to a markdown file.\n",
    "    title : str\n",
    "        Title of the markdown file.\n",
    "    header : str\n",
    "        Header to add to the csv file. '#' will be replaced with \"-\"\n",
    "        to denote comments.\n",
    "    \"\"\"\n",
    "\n",
    "    header = header.replace(\"#\", \"-\")\n",
    "\n",
    "    # replace Na with None for missingval\n",
    "    df = df.where(df.notna(), None)\n",
    "\n",
    "    with open(fN, \"w\") as f:\n",
    "\n",
    "        f.writelines(title)\n",
    "        f.writelines([\"\\n\"])\n",
    "        f.writelines(header)\n",
    "        f.writelines([\"\\n\"])\n",
    "        df.reset_index().to_markdown(f, index=False, missingval=\"-\")\n",
    "\n",
    "\n",
    "def to_datatable(fNs, index):\n",
    "    \"\"\"write final datatable\"\"\"\n",
    "\n",
    "    what = \"_multi_model_median\"\n",
    "    fN_out = ff_data_table.create_full_name(\n",
    "        extension=\"_raw\", index=index, wl=\"\", what=what\n",
    "    )\n",
    "    data_tables.save_cmip6_info_post(fNs, fN_out)\n",
    "\n",
    "\n",
    "def to_excel(fN, df, title, units):\n",
    "    \"\"\"save pandas.DataFrame to excel file\n",
    "\n",
    "    Parameters\n",
    "    ----------\n",
    "    fN : str\n",
    "        Filename.\n",
    "    df : pd.DataFrame\n",
    "        Pandas DataFrame to convert to a csv file.\n",
    "    title : str\n",
    "        Title of the csv file.\n",
    "    units : str\n",
    "        Units to add to the table header.\n",
    "    \"\"\"\n",
    "\n",
    "    # combine index to \"Name (abbrev)\"\n",
    "    df = df.reset_index()\n",
    "    name = df.names + \" (\" + df.abbrevs + \")\"\n",
    "    df = df.drop(columns=[\"abbrevs\", \"region\", \"names\"])\n",
    "    df.index = name\n",
    "\n",
    "    # create columns\n",
    "    columns = df.columns.to_list()\n",
    "    proj = [\"Projections\"] * len(columns)\n",
    "    columns = [f\"+{i}°C GWL\" for i in columns]\n",
    "    columns = pd.MultiIndex.from_arrays([proj, columns])\n",
    "    df.columns = columns\n",
    "\n",
    "    def to_str(x):\n",
    "        if np.isnan(x):\n",
    "            return \"-\"\n",
    "        return f\"{x:0.2f}{units}\"\n",
    "\n",
    "    # add units\n",
    "    df = df.applymap(to_str)\n",
    "\n",
    "    df.to_excel(fN)"
   ]
  },
  {
   "cell_type": "code",
   "execution_count": 14,
   "metadata": {},
   "outputs": [],
   "source": [
    "def to_warming_level_df_all_models_one_ens(\n",
    "    c6_at_warming_, varn, invalidate_global=False\n",
    "):\n",
    "\n",
    "    columns = [\n",
    "        \"region\",\n",
    "        \"abbrevs\",\n",
    "        \"names\",\n",
    "        \"model\",\n",
    "        \"ens\",\n",
    "        \"exp\",\n",
    "        \"table\",\n",
    "        \"grid\",\n",
    "        \"varn\",\n",
    "    ]\n",
    "\n",
    "    out = list()\n",
    "    for key in c6_at_warming_.keys():\n",
    "\n",
    "        da = c6_at_warming_[key].copy(deep=True)\n",
    "\n",
    "        if invalidate_global:\n",
    "            da.loc[{\"region\": [-4, -3, -2]}] = np.NaN\n",
    "\n",
    "        df = (\n",
    "            da.drop([\"type\", \"depth\", \"ensnumber\", \"ensi\"], errors=\"ignore\")\n",
    "            .to_dataframe()\n",
    "            .reset_index()  # remove the multi index\n",
    "            .drop(columns=[\"mod_ens\"])\n",
    "            .reset_index(drop=True)\n",
    "            .drop(columns=[\"postprocess\"])\n",
    "            .set_index(columns)\n",
    "            .rename(columns={varn: key})\n",
    "            .round(2)\n",
    "        )\n",
    "\n",
    "        out.append(df)\n",
    "\n",
    "    df = pd.concat(out, axis=1)\n",
    "\n",
    "    return df.reset_index().sort_values([\"region\", \"model\"]).reset_index(drop=True)"
   ]
  },
  {
   "cell_type": "code",
   "execution_count": 15,
   "metadata": {},
   "outputs": [],
   "source": [
    "def to_warming_level_df(c6_at_warming_, varn, invalidate_global=False):\n",
    "\n",
    "    # convert to a dataframe, concatenate the warming levels\n",
    "\n",
    "    out = list()\n",
    "    for key in c6_at_warming_.keys():\n",
    "\n",
    "        da = c6_at_warming_[key].copy(deep=True)\n",
    "\n",
    "        if invalidate_global:\n",
    "            da.loc[{\"region\": [-4, -3, -2]}] = np.NaN\n",
    "\n",
    "        df = (\n",
    "            da.median(\"mod_ens\")\n",
    "            .swap_dims({\"region\": \"abbrevs\"})\n",
    "            .to_dataframe()\n",
    "            .drop(columns=[\"type\", \"depth\"], errors=\"ignore\")\n",
    "            .reset_index()\n",
    "            .set_index([\"abbrevs\", \"region\", \"names\"])\n",
    "            .rename(columns={varn: key})\n",
    "            .round(2)\n",
    "        )\n",
    "\n",
    "        out.append(df)\n",
    "\n",
    "    return pd.concat(out, axis=1)\n",
    "\n",
    "\n",
    "df = to_warming_level_df(c6_at_warming_txx, \"tasmax\")"
   ]
  },
  {
   "cell_type": "code",
   "execution_count": 16,
   "metadata": {},
   "outputs": [],
   "source": [
    "def save_index(\n",
    "    c6_at_warming_, varn, index, units, invalidate_global=False, write_data_table=True\n",
    "):\n",
    "\n",
    "    what = \"_multi_model_median\"\n",
    "\n",
    "    title = f\"# cmip6: multi-model-median regional means at warming levels - {index}\"\n",
    "\n",
    "    wl = \"+\" + \"°C, +\".join(c6_at_warming_.keys()) + \"°C\"\n",
    "    header = f\"\"\"\n",
    "    # anomalies w.r.t. 1850-1900\n",
    "    # warming levels: {wl}\n",
    "    # index: {index}\n",
    "    # variable: {varn}\n",
    "    # units: {units}\n",
    "    \"\"\"\n",
    "    header = textwrap.dedent(header)\n",
    "\n",
    "    df = to_warming_level_df(c6_at_warming_, varn, invalidate_global=invalidate_global)\n",
    "\n",
    "    # save as csv\n",
    "    fN_csv = ff.create_full_name(extension=\"csv\", index=index, what=what)\n",
    "    to_csv(fN_csv, df, title, header)\n",
    "\n",
    "    # save as markdown\n",
    "    fN_md = ff.create_full_name(extension=\"md\", index=index, what=what)\n",
    "    to_markdown(fN_md, df, title, header)\n",
    "\n",
    "    # save as excel\n",
    "    fN_excel = ff.create_full_name(extension=\"xlsx\", index=index, what=what)\n",
    "    to_excel(fN_excel, df, title, units)\n",
    "\n",
    "    # print markdown links for README\n",
    "    path_csv = os.path.join(*fN_csv.split(\"/\")[3:])\n",
    "    path_md = os.path.join(*fN_md.split(\"/\")[3:])\n",
    "    print(f\"|{index}|[{index}.md]({path_md})|[{index}.csv]({path_csv})|\")\n",
    "\n",
    "    # save individual models\n",
    "    df_all_models_one_ens = to_warming_level_df_all_models_one_ens(\n",
    "        c6_at_warming_, varn, invalidate_global=False\n",
    "    )\n",
    "    fN_csv_all_models_one_ens = ff.create_full_name(\n",
    "        extension=\"csv\", index=index, what=\"_all_models_one_ens\"\n",
    "    )\n",
    "    title_all = (\n",
    "        f\"# cmip6: regional means at warming levels for individual models - {index}\"\n",
    "    )\n",
    "    to_csv(\n",
    "        fN_csv_all_models_one_ens,\n",
    "        df_all_models_one_ens,\n",
    "        title_all,\n",
    "        header,\n",
    "        write_index=False,\n",
    "    )\n",
    "\n",
    "    # write datalists\n",
    "\n",
    "    folder = ff_data_table.create_path_name(index=index, what=what)\n",
    "    file_utils.mkdir(folder)\n",
    "\n",
    "    fNs = list()\n",
    "    for key, value in c6_at_warming_.items():\n",
    "        fN = ff_data_table.create_full_name(index=index, wl=f\"_{key}_raw\", what=what)\n",
    "        data_tables.save_simulation_info_raw(fN, value, panel=key)\n",
    "        fNs.append(fN)\n",
    "\n",
    "    # combine datatable\n",
    "    if write_data_table:\n",
    "        to_datatable(fNs, index)"
   ]
  },
  {
   "cell_type": "markdown",
   "metadata": {},
   "source": [
    "## Write tables"
   ]
  },
  {
   "cell_type": "code",
   "execution_count": 17,
   "metadata": {},
   "outputs": [
    {
     "name": "stdout",
     "output_type": "stream",
     "text": [
      "|TXx|[TXx.md](indices_multi_model_median/md/cmip_indices_multi_model_median_regional_TXx.md)|[TXx.csv](indices_multi_model_median/csv/cmip_indices_multi_model_median_regional_TXx.csv)|\n",
      "Reading 286 files\n",
      "|TNn|[TNn.md](indices_multi_model_median/md/cmip_indices_multi_model_median_regional_TNn.md)|[TNn.csv](indices_multi_model_median/csv/cmip_indices_multi_model_median_regional_TNn.csv)|\n",
      "Reading 292 files\n"
     ]
    }
   ],
   "source": [
    "save_index(c6_at_warming_txx, varn=\"tasmax\", index=\"TXx\", units=\"°C\")\n",
    "save_index(c6_at_warming_tnn, varn=\"tasmin\", index=\"TNn\", units=\"°C\")"
   ]
  },
  {
   "cell_type": "code",
   "execution_count": 18,
   "metadata": {},
   "outputs": [
    {
     "name": "stdout",
     "output_type": "stream",
     "text": [
      "|Rx1day|[Rx1day.md](indices_multi_model_median/md/cmip_indices_multi_model_median_regional_Rx1day.md)|[Rx1day.csv](indices_multi_model_median/csv/cmip_indices_multi_model_median_regional_Rx1day.csv)|\n",
      "Reading 324 files\n",
      "|Rx5day|[Rx5day.md](indices_multi_model_median/md/cmip_indices_multi_model_median_regional_Rx5day.md)|[Rx5day.csv](indices_multi_model_median/csv/cmip_indices_multi_model_median_regional_Rx5day.csv)|\n",
      "Reading 330 files\n"
     ]
    }
   ],
   "source": [
    "save_index(c6_at_warming_rx1day, varn=\"pr\", index=\"Rx1day\", units=\"%\")\n",
    "save_index(c6_at_warming_rx5day, varn=\"pr\", index=\"Rx5day\", units=\"%\")"
   ]
  },
  {
   "cell_type": "code",
   "execution_count": 19,
   "metadata": {},
   "outputs": [
    {
     "name": "stdout",
     "output_type": "stream",
     "text": [
      "|SM_total|[SM_total.md](indices_multi_model_median/md/cmip_indices_multi_model_median_regional_SM_total.md)|[SM_total.csv](indices_multi_model_median/csv/cmip_indices_multi_model_median_regional_SM_total.csv)|\n",
      "Reading 336 files\n",
      "|SM_top|[SM_top.md](indices_multi_model_median/md/cmip_indices_multi_model_median_regional_SM_top.md)|[SM_top.csv](indices_multi_model_median/csv/cmip_indices_multi_model_median_regional_SM_top.csv)|\n",
      "Reading 306 files\n",
      "|CDD|[CDD.md](indices_multi_model_median/md/cmip_indices_multi_model_median_regional_CDD.md)|[CDD.csv](indices_multi_model_median/csv/cmip_indices_multi_model_median_regional_CDD.csv)|\n",
      "Reading 330 files\n"
     ]
    }
   ],
   "source": [
    "save_index(c6_at_warming_mrso, varn=\"mrso\", index=\"SM_total\", units=\"σ\", invalidate_global=True)\n",
    "save_index(c6_at_warming_mrsos, varn=\"mrsos\", index=\"SM_top\", units=\"σ\", invalidate_global=True)\n",
    "save_index(c6_at_warming_cdd, varn=\"pr\", index=\"CDD\", units=\"day\")"
   ]
  }
 ],
 "metadata": {
  "kernelspec": {
   "display_name": "Python (ipcc_ar6)",
   "language": "python",
   "name": "ipcc_ar6"
  },
  "language_info": {
   "codemirror_mode": {
    "name": "ipython",
    "version": 3
   },
   "file_extension": ".py",
   "mimetype": "text/x-python",
   "name": "python",
   "nbconvert_exporter": "python",
   "pygments_lexer": "ipython3",
   "version": "3.7.6"
  },
  "vscode": {
   "interpreter": {
    "hash": "9fd04b360ce2a208036b4c13cdb9c2e32dceb4f9e9c3cac8480f5d34896e9076"
   }
  }
 },
 "nbformat": 4,
 "nbformat_minor": 4
}
